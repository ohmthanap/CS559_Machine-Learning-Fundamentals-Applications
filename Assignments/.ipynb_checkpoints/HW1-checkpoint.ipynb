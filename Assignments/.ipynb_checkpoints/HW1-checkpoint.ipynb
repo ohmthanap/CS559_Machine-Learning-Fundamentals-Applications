{
 "cells": [
  {
   "cell_type": "markdown",
   "id": "91ff9041",
   "metadata": {},
   "source": [
    "# CS 559-B: Machine Learning: Fundamentals and Applications\n",
    "\n",
    "## Full name: Thanapoom Phatthanaphan <br>CWID: 20011296\n",
    "\n",
    "### Homework 1 (Problem 6)\n",
    "\n",
    "Write the codes to build and train the classifier on Iris plant dataset (https:// archive.ics.uci.edu/ml/datasets/iris). The iris dataset contains 150 samples with 4 features for 3 classes. To simplify the problem, we only consider: (a) two classes, i.e., virginica and non- virginica; (b) The first 2 types of features for training, i.e., sepal length and sepal width. Based on these simplified settings, train the model using gradient descent. Please show the classification results. (Note that (1) you could split the iris dataset into train/test set. (2) You could visualize the results by showing the trained classifier overlaid on the train/test data. (3) You could tune several hyperparameters, e.g., learning rate, weight initialization method etc, to see their effects. (3) You could use sklearn or other packages to load and process the data, but you can not use the package to train the model)."
   ]
  },
  {
   "cell_type": "code",
   "execution_count": null,
   "id": "d5168c40",
   "metadata": {},
   "outputs": [],
   "source": []
  }
 ],
 "metadata": {
  "kernelspec": {
   "display_name": "Python 3 (ipykernel)",
   "language": "python",
   "name": "python3"
  },
  "language_info": {
   "codemirror_mode": {
    "name": "ipython",
    "version": 3
   },
   "file_extension": ".py",
   "mimetype": "text/x-python",
   "name": "python",
   "nbconvert_exporter": "python",
   "pygments_lexer": "ipython3",
   "version": "3.9.13"
  }
 },
 "nbformat": 4,
 "nbformat_minor": 5
}
